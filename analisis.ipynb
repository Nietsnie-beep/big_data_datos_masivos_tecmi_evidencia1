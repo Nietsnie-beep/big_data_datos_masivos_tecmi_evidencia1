{
 "cells": [
  {
   "cell_type": "markdown",
   "source": [
    "# avance de evidencia 1"
   ],
   "metadata": {
    "collapsed": false,
    "pycharm": {
     "name": "#%% md\n"
    }
   }
  },
  {
   "cell_type": "markdown",
   "source": [
    "### Diagrama de datos\n",
    "<div>\n",
    "<p style = 'text-align:center;'>\n",
    "<img src=\"./dataAnalisis.png\">\n",
    "</p>\n",
    "</div>"
   ],
   "metadata": {
    "collapsed": false,
    "pycharm": {
     "name": "#%% md\n"
    }
   }
  },
  {
   "cell_type": "markdown",
   "source": [],
   "metadata": {
    "collapsed": false,
    "pycharm": {
     "name": "#%% md\n"
    }
   }
  },
  {
   "cell_type": "markdown",
   "source": [
    "## Hello world"
   ],
   "metadata": {
    "collapsed": false,
    "pycharm": {
     "name": "#%% md\n"
    }
   }
  },
  {
   "cell_type": "code",
   "execution_count": 46,
   "outputs": [
    {
     "name": "stdout",
     "output_type": "stream",
     "text": [
      "Hello World\n"
     ]
    }
   ],
   "source": [
    "print(\"Hello World\")"
   ],
   "metadata": {
    "collapsed": false,
    "pycharm": {
     "name": "#%%\n"
    }
   }
  },
  {
   "cell_type": "markdown",
   "source": [
    "# Limpieza de datos"
   ],
   "metadata": {
    "collapsed": false,
    "pycharm": {
     "name": "#%% md\n"
    }
   }
  },
  {
   "cell_type": "markdown",
   "source": [
    "instalar dependencias"
   ],
   "metadata": {
    "collapsed": false,
    "pycharm": {
     "name": "#%% md\n"
    }
   }
  },
  {
   "cell_type": "code",
   "execution_count": 1,
   "outputs": [
    {
     "name": "stdout",
     "output_type": "stream",
     "text": [
      "Requirement already satisfied: pandas in d:\\users\\omen\\desktop\\escuela\\semestre5\\datos masivos\\entorno1\\venv\\lib\\site-packages (1.5.0)\n",
      "Requirement already satisfied: pytz>=2020.1 in d:\\users\\omen\\desktop\\escuela\\semestre5\\datos masivos\\entorno1\\venv\\lib\\site-packages (from pandas) (2022.2.1)\n",
      "Requirement already satisfied: numpy>=1.20.3 in d:\\users\\omen\\desktop\\escuela\\semestre5\\datos masivos\\entorno1\\venv\\lib\\site-packages (from pandas) (1.23.3)\n",
      "Requirement already satisfied: python-dateutil>=2.8.1 in d:\\users\\omen\\desktop\\escuela\\semestre5\\datos masivos\\entorno1\\venv\\lib\\site-packages (from pandas) (2.8.2)\n",
      "Requirement already satisfied: six>=1.5 in d:\\users\\omen\\desktop\\escuela\\semestre5\\datos masivos\\entorno1\\venv\\lib\\site-packages (from python-dateutil>=2.8.1->pandas) (1.16.0)\n",
      "Note: you may need to restart the kernel to use updated packages.\n"
     ]
    }
   ],
   "source": [
    "pip install pandas"
   ],
   "metadata": {
    "collapsed": false,
    "pycharm": {
     "name": "#%%\n"
    }
   }
  },
  {
   "cell_type": "markdown",
   "source": [
    "### importar librerias"
   ],
   "metadata": {
    "collapsed": false,
    "pycharm": {
     "name": "#%% md\n"
    }
   }
  },
  {
   "cell_type": "code",
   "execution_count": 48,
   "outputs": [],
   "source": [
    "import pandas as pd"
   ],
   "metadata": {
    "collapsed": false,
    "pycharm": {
     "name": "#%%\n"
    }
   }
  },
  {
   "cell_type": "markdown",
   "source": [
    "##### importar datasets para trabajar"
   ],
   "metadata": {
    "collapsed": false,
    "pycharm": {
     "name": "#%% md\n"
    }
   }
  },
  {
   "cell_type": "code",
   "execution_count": 9,
   "outputs": [],
   "source": [
    "orders = pd.read_csv('orders.csv')\n",
    "products = pd.read_csv('products.csv')\n",
    "departament = pd.read_csv('departments.csv')\n",
    "aisles = pd.read_csv('aisles.csv')\n",
    "order_product = pd.read_csv('order_products__prior.csv')\n"
   ],
   "metadata": {
    "collapsed": false,
    "pycharm": {
     "name": "#%%\n"
    }
   }
  },
  {
   "cell_type": "markdown",
   "source": [
    "##### Realizar Diccionario a partir del csv de aisles"
   ],
   "metadata": {
    "collapsed": false,
    "pycharm": {
     "name": "#%% md\n"
    }
   }
  },
  {
   "cell_type": "code",
   "execution_count": 51,
   "outputs": [
    {
     "name": "stdout",
     "output_type": "stream",
     "text": [
      "{'aisle_id': 'aisle', '1': 'prepared soups salads', '2': 'specialty cheeses', '3': 'energy granola bars', '4': 'instant foods', '5': 'marinades meat preparation', '6': 'other', '7': 'packaged meat', '8': 'bakery desserts', '9': 'pasta sauce', '10': 'kitchen supplies', '11': 'cold flu allergy', '12': 'fresh pasta', '13': 'prepared meals', '14': 'tofu meat alternatives', '15': 'packaged seafood', '16': 'fresh herbs', '17': 'baking ingredients', '18': 'bulk dried fruits vegetables', '19': 'oils vinegars', '20': 'oral hygiene', '21': 'packaged cheese', '22': 'hair care', '23': 'popcorn jerky', '24': 'fresh fruits', '25': 'soap', '26': 'coffee', '27': 'beers coolers', '28': 'red wines', '29': 'honeys syrups nectars', '30': 'latino foods', '31': 'refrigerated', '32': 'packaged produce', '33': 'kosher foods', '34': 'frozen meat seafood', '35': 'poultry counter', '36': 'butter', '37': 'ice cream ice', '38': 'frozen meals', '39': 'seafood counter', '40': 'dog food care', '41': 'cat food care', '42': 'frozen vegan vegetarian', '43': 'buns rolls', '44': 'eye ear care', '45': 'candy chocolate', '46': 'mint gum', '47': 'vitamins supplements', '48': 'breakfast bars pastries', '49': 'packaged poultry', '50': 'fruit vegetable snacks', '51': 'preserved dips spreads', '52': 'frozen breakfast', '53': 'cream', '54': 'paper goods', '55': 'shave needs', '56': 'diapers wipes', '57': 'granola', '58': 'frozen breads doughs', '59': 'canned meals beans', '60': 'trash bags liners', '61': 'cookies cakes', '62': 'white wines', '63': 'grains rice dried goods', '64': 'energy sports drinks', '65': 'protein meal replacements', '66': 'asian foods', '67': 'fresh dips tapenades', '68': 'bulk grains rice dried goods', '69': 'soup broth bouillon', '70': 'digestion', '71': 'refrigerated pudding desserts', '72': 'condiments', '73': 'facial care', '74': 'dish detergents', '75': 'laundry', '76': 'indian foods', '77': 'soft drinks', '78': 'crackers', '79': 'frozen pizza', '80': 'deodorants', '81': 'canned jarred vegetables', '82': 'baby accessories', '83': 'fresh vegetables', '84': 'milk', '85': 'food storage', '86': 'eggs', '87': 'more household', '88': 'spreads', '89': 'salad dressing toppings', '90': 'cocoa drink mixes', '91': 'soy lactosefree', '92': 'baby food formula', '93': 'breakfast bakery', '94': 'tea', '95': 'canned meat seafood', '96': 'lunch meat', '97': 'baking supplies decor', '98': 'juice nectars', '99': 'canned fruit applesauce', '100': 'missing', '101': 'air fresheners candles', '102': 'baby bath body care', '103': 'ice cream toppings', '104': 'spices seasonings', '105': 'doughs gelatins bake mixes', '106': 'hot dogs bacon sausage', '107': 'chips pretzels', '108': 'other creams cheeses', '109': 'skin care', '110': 'pickled goods olives', '111': 'plates bowls cups flatware', '112': 'bread', '113': 'frozen juice', '114': 'cleaning products', '115': 'water seltzer sparkling water', '116': 'frozen produce', '117': 'nuts seeds dried fruit', '118': 'first aid', '119': 'frozen dessert', '120': 'yogurt', '121': 'cereal', '122': 'meat counter', '123': 'packaged vegetables fruits', '124': 'spirits', '125': 'trail mix snack mix', '126': 'feminine care', '127': 'body lotions soap', '128': 'tortillas flat bread', '129': 'frozen appetizers sides', '130': 'hot cereal pancake mixes', '131': 'dry pasta', '132': 'beauty', '133': 'muscles joints pain relief', '134': 'specialty wines champagnes'}\n"
     ]
    },
    {
     "name": "stderr",
     "output_type": "stream",
     "text": [
      "C:\\Users\\alber\\AppData\\Local\\Temp\\ipykernel_22568\\3378417576.py:1: FutureWarning: The squeeze argument has been deprecated and will be removed in a future version. Append .squeeze(\"columns\") to the call to squeeze.\n",
      "\n",
      "\n",
      "  dict_csv = pd.read_csv('aisles.csv', header=None, index_col=0, squeeze=True).to_dict()\n"
     ]
    }
   ],
   "source": [
    "\n",
    "dict_csv = pd.read_csv('aisles.csv', header=None, index_col=0, squeeze=True).to_dict()\n",
    "\n",
    "print(dict_csv)\n",
    "\n"
   ],
   "metadata": {
    "collapsed": false,
    "pycharm": {
     "name": "#%%\n"
    }
   }
  },
  {
   "cell_type": "code",
   "execution_count": 53,
   "outputs": [
    {
     "name": "stdout",
     "output_type": "stream",
     "text": [
      "prepared soups salads\n"
     ]
    }
   ],
   "source": [
    "print(dict_csv['1'])"
   ],
   "metadata": {
    "collapsed": false,
    "pycharm": {
     "name": "#%%\n"
    }
   }
  },
  {
   "cell_type": "code",
   "execution_count": 55,
   "outputs": [
    {
     "data": {
      "text/plain": "   order_id  user_id eval_set  order_number  order_dow  order_hour_of_day  \\\n0   2539329        1    prior             1          2                  8   \n1   2398795        1    prior             2          3                  7   \n2    473747        1    prior             3          3                 12   \n3   2254736        1    prior             4          4                  7   \n4    431534        1    prior             5          4                 15   \n\n   days_since_prior_order  \n0                     NaN  \n1                    15.0  \n2                    21.0  \n3                    29.0  \n4                    28.0  ",
      "text/html": "<div>\n<style scoped>\n    .dataframe tbody tr th:only-of-type {\n        vertical-align: middle;\n    }\n\n    .dataframe tbody tr th {\n        vertical-align: top;\n    }\n\n    .dataframe thead th {\n        text-align: right;\n    }\n</style>\n<table border=\"1\" class=\"dataframe\">\n  <thead>\n    <tr style=\"text-align: right;\">\n      <th></th>\n      <th>order_id</th>\n      <th>user_id</th>\n      <th>eval_set</th>\n      <th>order_number</th>\n      <th>order_dow</th>\n      <th>order_hour_of_day</th>\n      <th>days_since_prior_order</th>\n    </tr>\n  </thead>\n  <tbody>\n    <tr>\n      <th>0</th>\n      <td>2539329</td>\n      <td>1</td>\n      <td>prior</td>\n      <td>1</td>\n      <td>2</td>\n      <td>8</td>\n      <td>NaN</td>\n    </tr>\n    <tr>\n      <th>1</th>\n      <td>2398795</td>\n      <td>1</td>\n      <td>prior</td>\n      <td>2</td>\n      <td>3</td>\n      <td>7</td>\n      <td>15.0</td>\n    </tr>\n    <tr>\n      <th>2</th>\n      <td>473747</td>\n      <td>1</td>\n      <td>prior</td>\n      <td>3</td>\n      <td>3</td>\n      <td>12</td>\n      <td>21.0</td>\n    </tr>\n    <tr>\n      <th>3</th>\n      <td>2254736</td>\n      <td>1</td>\n      <td>prior</td>\n      <td>4</td>\n      <td>4</td>\n      <td>7</td>\n      <td>29.0</td>\n    </tr>\n    <tr>\n      <th>4</th>\n      <td>431534</td>\n      <td>1</td>\n      <td>prior</td>\n      <td>5</td>\n      <td>4</td>\n      <td>15</td>\n      <td>28.0</td>\n    </tr>\n  </tbody>\n</table>\n</div>"
     },
     "execution_count": 55,
     "metadata": {},
     "output_type": "execute_result"
    }
   ],
   "source": [
    "orders.head()"
   ],
   "metadata": {
    "collapsed": false,
    "pycharm": {
     "name": "#%%\n"
    }
   }
  },
  {
   "cell_type": "markdown",
   "source": [
    "vamos a analizar la informacion de este dataset\n"
   ],
   "metadata": {
    "collapsed": false,
    "pycharm": {
     "name": "#%% md\n"
    }
   }
  },
  {
   "cell_type": "code",
   "execution_count": 6,
   "outputs": [
    {
     "name": "stdout",
     "output_type": "stream",
     "text": [
      "<class 'pandas.core.frame.DataFrame'>\n",
      "RangeIndex: 3421083 entries, 0 to 3421082\n",
      "Data columns (total 7 columns):\n",
      " #   Column                  Dtype  \n",
      "---  ------                  -----  \n",
      " 0   order_id                int64  \n",
      " 1   user_id                 int64  \n",
      " 2   eval_set                object \n",
      " 3   order_number            int64  \n",
      " 4   order_dow               int64  \n",
      " 5   order_hour_of_day       int64  \n",
      " 6   days_since_prior_order  float64\n",
      "dtypes: float64(1), int64(5), object(1)\n",
      "memory usage: 182.7+ MB\n"
     ]
    }
   ],
   "source": [
    "orders.info()"
   ],
   "metadata": {
    "collapsed": false,
    "pycharm": {
     "name": "#%%\n"
    }
   }
  },
  {
   "cell_type": "markdown",
   "source": [
    "Ahora analizar cuantos datos faltantes tenemos en este caso 206209 son datos faltantes\n",
    "\n",
    "este paso se realiza con cada uno de los dataset"
   ],
   "metadata": {
    "collapsed": false,
    "pycharm": {
     "name": "#%% md\n"
    }
   }
  },
  {
   "cell_type": "code",
   "execution_count": 8,
   "outputs": [
    {
     "data": {
      "text/plain": "order_id                       0\nuser_id                        0\neval_set                       0\norder_number                   0\norder_dow                      0\norder_hour_of_day              0\ndays_since_prior_order    206209\ndtype: int64"
     },
     "execution_count": 8,
     "metadata": {},
     "output_type": "execute_result"
    }
   ],
   "source": [
    "orders.isnull().sum()"
   ],
   "metadata": {
    "collapsed": false,
    "pycharm": {
     "name": "#%%\n"
    }
   }
  },
  {
   "cell_type": "code",
   "execution_count": 10,
   "outputs": [
    {
     "data": {
      "text/plain": "product_id       0\nproduct_name     0\naisle_id         0\ndepartment_id    0\ndtype: int64"
     },
     "execution_count": 10,
     "metadata": {},
     "output_type": "execute_result"
    }
   ],
   "source": [
    "products.isnull().sum()"
   ],
   "metadata": {
    "collapsed": false,
    "pycharm": {
     "name": "#%%\n"
    }
   }
  },
  {
   "cell_type": "code",
   "execution_count": 13,
   "outputs": [
    {
     "data": {
      "text/plain": "aisle_id    0\naisle       0\ndtype: int64"
     },
     "execution_count": 13,
     "metadata": {},
     "output_type": "execute_result"
    }
   ],
   "source": [
    "aisles.isnull().sum()"
   ],
   "metadata": {
    "collapsed": false,
    "pycharm": {
     "name": "#%%\n"
    }
   }
  },
  {
   "cell_type": "markdown",
   "source": [
    "una vez hecho el analis de los datos podemos encontrar que hay campos en comun los cuales se pueden unir en un solo archivo\n",
    "aqui se une el dataset de \"asiles\" con el de \"products\" por medio del campo en comun que en este caso es aisle_id para tenerlo en un solo archivo"
   ],
   "metadata": {
    "collapsed": false,
    "pycharm": {
     "name": "#%% md\n"
    }
   }
  },
  {
   "cell_type": "code",
   "execution_count": 16,
   "outputs": [
    {
     "data": {
      "text/plain": "   aisle_id                aisle_x                aisle_y  product_id  \\\n0         1  prepared soups salads  prepared soups salads         209   \n1         1  prepared soups salads  prepared soups salads         554   \n2         1  prepared soups salads  prepared soups salads         886   \n3         1  prepared soups salads  prepared soups salads        1600   \n4         1  prepared soups salads  prepared soups salads        2539   \n\n                                        product_name  department_id  \n0                                Italian Pasta Salad             20  \n1                                       Turkey Chili             20  \n2  Whole Grain Salad with Roasted Pecans & Mango ...             20  \n3                           Mediterranean Orzo Salad             20  \n4                              Original Potato Salad             20  ",
      "text/html": "<div>\n<style scoped>\n    .dataframe tbody tr th:only-of-type {\n        vertical-align: middle;\n    }\n\n    .dataframe tbody tr th {\n        vertical-align: top;\n    }\n\n    .dataframe thead th {\n        text-align: right;\n    }\n</style>\n<table border=\"1\" class=\"dataframe\">\n  <thead>\n    <tr style=\"text-align: right;\">\n      <th></th>\n      <th>aisle_id</th>\n      <th>aisle_x</th>\n      <th>aisle_y</th>\n      <th>product_id</th>\n      <th>product_name</th>\n      <th>department_id</th>\n    </tr>\n  </thead>\n  <tbody>\n    <tr>\n      <th>0</th>\n      <td>1</td>\n      <td>prepared soups salads</td>\n      <td>prepared soups salads</td>\n      <td>209</td>\n      <td>Italian Pasta Salad</td>\n      <td>20</td>\n    </tr>\n    <tr>\n      <th>1</th>\n      <td>1</td>\n      <td>prepared soups salads</td>\n      <td>prepared soups salads</td>\n      <td>554</td>\n      <td>Turkey Chili</td>\n      <td>20</td>\n    </tr>\n    <tr>\n      <th>2</th>\n      <td>1</td>\n      <td>prepared soups salads</td>\n      <td>prepared soups salads</td>\n      <td>886</td>\n      <td>Whole Grain Salad with Roasted Pecans &amp; Mango ...</td>\n      <td>20</td>\n    </tr>\n    <tr>\n      <th>3</th>\n      <td>1</td>\n      <td>prepared soups salads</td>\n      <td>prepared soups salads</td>\n      <td>1600</td>\n      <td>Mediterranean Orzo Salad</td>\n      <td>20</td>\n    </tr>\n    <tr>\n      <th>4</th>\n      <td>1</td>\n      <td>prepared soups salads</td>\n      <td>prepared soups salads</td>\n      <td>2539</td>\n      <td>Original Potato Salad</td>\n      <td>20</td>\n    </tr>\n  </tbody>\n</table>\n</div>"
     },
     "execution_count": 16,
     "metadata": {},
     "output_type": "execute_result"
    }
   ],
   "source": [
    "#unir pasillo id con el producto\n",
    "products = pd.merge(aisles, products, on=\"aisle_id\")\n",
    "products.head()"
   ],
   "metadata": {
    "collapsed": false,
    "pycharm": {
     "name": "#%%\n"
    }
   }
  },
  {
   "cell_type": "code",
   "execution_count": 20,
   "outputs": [
    {
     "name": "stdout",
     "output_type": "stream",
     "text": [
      "<class 'pandas.core.frame.DataFrame'>\n",
      "RangeIndex: 21 entries, 0 to 20\n",
      "Data columns (total 2 columns):\n",
      " #   Column         Non-Null Count  Dtype \n",
      "---  ------         --------------  ----- \n",
      " 0   department_id  21 non-null     int64 \n",
      " 1   department     21 non-null     object\n",
      "dtypes: int64(1), object(1)\n",
      "memory usage: 464.0+ bytes\n"
     ]
    },
    {
     "data": {
      "text/plain": "department_id    0\ndepartment       0\ndtype: int64"
     },
     "execution_count": 20,
     "metadata": {},
     "output_type": "execute_result"
    }
   ],
   "source": [
    "departament.info()\n",
    "departament.isnull().sum()"
   ],
   "metadata": {
    "collapsed": false,
    "pycharm": {
     "name": "#%%\n"
    }
   }
  },
  {
   "cell_type": "code",
   "execution_count": 25,
   "outputs": [
    {
     "data": {
      "text/plain": "    department_id       department\n0               1           frozen\n1               2            other\n2               3           bakery\n3               4          produce\n4               5          alcohol\n5               6    international\n6               7        beverages\n7               8             pets\n8               9  dry goods pasta\n9              10             bulk\n10             11    personal care\n11             12     meat seafood\n12             13           pantry\n13             14        breakfast\n14             15     canned goods\n15             16       dairy eggs\n16             17        household\n17             18           babies\n18             19           snacks\n19             20             deli\n20             21          missing",
      "text/html": "<div>\n<style scoped>\n    .dataframe tbody tr th:only-of-type {\n        vertical-align: middle;\n    }\n\n    .dataframe tbody tr th {\n        vertical-align: top;\n    }\n\n    .dataframe thead th {\n        text-align: right;\n    }\n</style>\n<table border=\"1\" class=\"dataframe\">\n  <thead>\n    <tr style=\"text-align: right;\">\n      <th></th>\n      <th>department_id</th>\n      <th>department</th>\n    </tr>\n  </thead>\n  <tbody>\n    <tr>\n      <th>0</th>\n      <td>1</td>\n      <td>frozen</td>\n    </tr>\n    <tr>\n      <th>1</th>\n      <td>2</td>\n      <td>other</td>\n    </tr>\n    <tr>\n      <th>2</th>\n      <td>3</td>\n      <td>bakery</td>\n    </tr>\n    <tr>\n      <th>3</th>\n      <td>4</td>\n      <td>produce</td>\n    </tr>\n    <tr>\n      <th>4</th>\n      <td>5</td>\n      <td>alcohol</td>\n    </tr>\n    <tr>\n      <th>5</th>\n      <td>6</td>\n      <td>international</td>\n    </tr>\n    <tr>\n      <th>6</th>\n      <td>7</td>\n      <td>beverages</td>\n    </tr>\n    <tr>\n      <th>7</th>\n      <td>8</td>\n      <td>pets</td>\n    </tr>\n    <tr>\n      <th>8</th>\n      <td>9</td>\n      <td>dry goods pasta</td>\n    </tr>\n    <tr>\n      <th>9</th>\n      <td>10</td>\n      <td>bulk</td>\n    </tr>\n    <tr>\n      <th>10</th>\n      <td>11</td>\n      <td>personal care</td>\n    </tr>\n    <tr>\n      <th>11</th>\n      <td>12</td>\n      <td>meat seafood</td>\n    </tr>\n    <tr>\n      <th>12</th>\n      <td>13</td>\n      <td>pantry</td>\n    </tr>\n    <tr>\n      <th>13</th>\n      <td>14</td>\n      <td>breakfast</td>\n    </tr>\n    <tr>\n      <th>14</th>\n      <td>15</td>\n      <td>canned goods</td>\n    </tr>\n    <tr>\n      <th>15</th>\n      <td>16</td>\n      <td>dairy eggs</td>\n    </tr>\n    <tr>\n      <th>16</th>\n      <td>17</td>\n      <td>household</td>\n    </tr>\n    <tr>\n      <th>17</th>\n      <td>18</td>\n      <td>babies</td>\n    </tr>\n    <tr>\n      <th>18</th>\n      <td>19</td>\n      <td>snacks</td>\n    </tr>\n    <tr>\n      <th>19</th>\n      <td>20</td>\n      <td>deli</td>\n    </tr>\n    <tr>\n      <th>20</th>\n      <td>21</td>\n      <td>missing</td>\n    </tr>\n  </tbody>\n</table>\n</div>"
     },
     "execution_count": 25,
     "metadata": {},
     "output_type": "execute_result"
    }
   ],
   "source": [
    "departament"
   ],
   "metadata": {
    "collapsed": false,
    "pycharm": {
     "name": "#%%\n"
    }
   }
  },
  {
   "cell_type": "code",
   "execution_count": 27,
   "outputs": [
    {
     "data": {
      "text/plain": "       aisle_id                     aisle_x                     aisle_y  \\\n0             1       prepared soups salads       prepared soups salads   \n1             1       prepared soups salads       prepared soups salads   \n2             1       prepared soups salads       prepared soups salads   \n3             1       prepared soups salads       prepared soups salads   \n4             1       prepared soups salads       prepared soups salads   \n...         ...                         ...                         ...   \n49683       134  specialty wines champagnes  specialty wines champagnes   \n49684       134  specialty wines champagnes  specialty wines champagnes   \n49685       134  specialty wines champagnes  specialty wines champagnes   \n49686       134  specialty wines champagnes  specialty wines champagnes   \n49687       134  specialty wines champagnes  specialty wines champagnes   \n\n       product_id                                       product_name  \\\n0             209                                Italian Pasta Salad   \n1             554                                       Turkey Chili   \n2             886  Whole Grain Salad with Roasted Pecans & Mango ...   \n3            1600                           Mediterranean Orzo Salad   \n4            2539                              Original Potato Salad   \n...           ...                                                ...   \n49683       47713                                     Sparkling Rose   \n49684       48984                                         Dry Sherry   \n49685       49438                                    Dry Fino Sherry   \n49686       49562                      Blanc De Noirs Sparkling Wine   \n49687       49661                                              Porto   \n\n       department_id  \n0                 20  \n1                 20  \n2                 20  \n3                 20  \n4                 20  \n...              ...  \n49683              5  \n49684              5  \n49685              5  \n49686              5  \n49687              5  \n\n[49688 rows x 6 columns]",
      "text/html": "<div>\n<style scoped>\n    .dataframe tbody tr th:only-of-type {\n        vertical-align: middle;\n    }\n\n    .dataframe tbody tr th {\n        vertical-align: top;\n    }\n\n    .dataframe thead th {\n        text-align: right;\n    }\n</style>\n<table border=\"1\" class=\"dataframe\">\n  <thead>\n    <tr style=\"text-align: right;\">\n      <th></th>\n      <th>aisle_id</th>\n      <th>aisle_x</th>\n      <th>aisle_y</th>\n      <th>product_id</th>\n      <th>product_name</th>\n      <th>department_id</th>\n    </tr>\n  </thead>\n  <tbody>\n    <tr>\n      <th>0</th>\n      <td>1</td>\n      <td>prepared soups salads</td>\n      <td>prepared soups salads</td>\n      <td>209</td>\n      <td>Italian Pasta Salad</td>\n      <td>20</td>\n    </tr>\n    <tr>\n      <th>1</th>\n      <td>1</td>\n      <td>prepared soups salads</td>\n      <td>prepared soups salads</td>\n      <td>554</td>\n      <td>Turkey Chili</td>\n      <td>20</td>\n    </tr>\n    <tr>\n      <th>2</th>\n      <td>1</td>\n      <td>prepared soups salads</td>\n      <td>prepared soups salads</td>\n      <td>886</td>\n      <td>Whole Grain Salad with Roasted Pecans &amp; Mango ...</td>\n      <td>20</td>\n    </tr>\n    <tr>\n      <th>3</th>\n      <td>1</td>\n      <td>prepared soups salads</td>\n      <td>prepared soups salads</td>\n      <td>1600</td>\n      <td>Mediterranean Orzo Salad</td>\n      <td>20</td>\n    </tr>\n    <tr>\n      <th>4</th>\n      <td>1</td>\n      <td>prepared soups salads</td>\n      <td>prepared soups salads</td>\n      <td>2539</td>\n      <td>Original Potato Salad</td>\n      <td>20</td>\n    </tr>\n    <tr>\n      <th>...</th>\n      <td>...</td>\n      <td>...</td>\n      <td>...</td>\n      <td>...</td>\n      <td>...</td>\n      <td>...</td>\n    </tr>\n    <tr>\n      <th>49683</th>\n      <td>134</td>\n      <td>specialty wines champagnes</td>\n      <td>specialty wines champagnes</td>\n      <td>47713</td>\n      <td>Sparkling Rose</td>\n      <td>5</td>\n    </tr>\n    <tr>\n      <th>49684</th>\n      <td>134</td>\n      <td>specialty wines champagnes</td>\n      <td>specialty wines champagnes</td>\n      <td>48984</td>\n      <td>Dry Sherry</td>\n      <td>5</td>\n    </tr>\n    <tr>\n      <th>49685</th>\n      <td>134</td>\n      <td>specialty wines champagnes</td>\n      <td>specialty wines champagnes</td>\n      <td>49438</td>\n      <td>Dry Fino Sherry</td>\n      <td>5</td>\n    </tr>\n    <tr>\n      <th>49686</th>\n      <td>134</td>\n      <td>specialty wines champagnes</td>\n      <td>specialty wines champagnes</td>\n      <td>49562</td>\n      <td>Blanc De Noirs Sparkling Wine</td>\n      <td>5</td>\n    </tr>\n    <tr>\n      <th>49687</th>\n      <td>134</td>\n      <td>specialty wines champagnes</td>\n      <td>specialty wines champagnes</td>\n      <td>49661</td>\n      <td>Porto</td>\n      <td>5</td>\n    </tr>\n  </tbody>\n</table>\n<p>49688 rows × 6 columns</p>\n</div>"
     },
     "execution_count": 27,
     "metadata": {},
     "output_type": "execute_result"
    }
   ],
   "source": [
    "products"
   ],
   "metadata": {
    "collapsed": false,
    "pycharm": {
     "name": "#%%\n"
    }
   }
  },
  {
   "cell_type": "code",
   "execution_count": 30,
   "outputs": [
    {
     "data": {
      "text/plain": "   department_id department  aisle_id              aisle_x  \\\n0              1     frozen        34  frozen meat seafood   \n1              1     frozen        34  frozen meat seafood   \n2              1     frozen        34  frozen meat seafood   \n3              1     frozen        34  frozen meat seafood   \n4              1     frozen        34  frozen meat seafood   \n\n               aisle_y  product_id                             product_name  \n0  frozen meat seafood         118                       Ground Turkey Chub  \n1  frozen meat seafood         383           Breaded Chicken Breast Tenders  \n2  frozen meat seafood         402         100% Pure Beef Homestyle Patties  \n3  frozen meat seafood         625  Chicken Breast Nuggets, Dinosaur Shaped  \n4  frozen meat seafood         831          All Natural Premium Cornish Hen  ",
      "text/html": "<div>\n<style scoped>\n    .dataframe tbody tr th:only-of-type {\n        vertical-align: middle;\n    }\n\n    .dataframe tbody tr th {\n        vertical-align: top;\n    }\n\n    .dataframe thead th {\n        text-align: right;\n    }\n</style>\n<table border=\"1\" class=\"dataframe\">\n  <thead>\n    <tr style=\"text-align: right;\">\n      <th></th>\n      <th>department_id</th>\n      <th>department</th>\n      <th>aisle_id</th>\n      <th>aisle_x</th>\n      <th>aisle_y</th>\n      <th>product_id</th>\n      <th>product_name</th>\n    </tr>\n  </thead>\n  <tbody>\n    <tr>\n      <th>0</th>\n      <td>1</td>\n      <td>frozen</td>\n      <td>34</td>\n      <td>frozen meat seafood</td>\n      <td>frozen meat seafood</td>\n      <td>118</td>\n      <td>Ground Turkey Chub</td>\n    </tr>\n    <tr>\n      <th>1</th>\n      <td>1</td>\n      <td>frozen</td>\n      <td>34</td>\n      <td>frozen meat seafood</td>\n      <td>frozen meat seafood</td>\n      <td>383</td>\n      <td>Breaded Chicken Breast Tenders</td>\n    </tr>\n    <tr>\n      <th>2</th>\n      <td>1</td>\n      <td>frozen</td>\n      <td>34</td>\n      <td>frozen meat seafood</td>\n      <td>frozen meat seafood</td>\n      <td>402</td>\n      <td>100% Pure Beef Homestyle Patties</td>\n    </tr>\n    <tr>\n      <th>3</th>\n      <td>1</td>\n      <td>frozen</td>\n      <td>34</td>\n      <td>frozen meat seafood</td>\n      <td>frozen meat seafood</td>\n      <td>625</td>\n      <td>Chicken Breast Nuggets, Dinosaur Shaped</td>\n    </tr>\n    <tr>\n      <th>4</th>\n      <td>1</td>\n      <td>frozen</td>\n      <td>34</td>\n      <td>frozen meat seafood</td>\n      <td>frozen meat seafood</td>\n      <td>831</td>\n      <td>All Natural Premium Cornish Hen</td>\n    </tr>\n  </tbody>\n</table>\n</div>"
     },
     "execution_count": 30,
     "metadata": {},
     "output_type": "execute_result"
    }
   ],
   "source": [
    "#unir departamentos\n",
    "products_merge = pd.merge(departament, products, on='department_id')\n",
    "products_merge.head()"
   ],
   "metadata": {
    "collapsed": false,
    "pycharm": {
     "name": "#%%\n"
    }
   }
  },
  {
   "cell_type": "code",
   "execution_count": 31,
   "outputs": [
    {
     "data": {
      "text/plain": "          order_id  product_id  add_to_cart_order  reordered\n0                2       33120                  1          1\n1                2       28985                  2          1\n2                2        9327                  3          0\n3                2       45918                  4          1\n4                2       30035                  5          0\n...            ...         ...                ...        ...\n32434484   3421083       39678                  6          1\n32434485   3421083       11352                  7          0\n32434486   3421083        4600                  8          0\n32434487   3421083       24852                  9          1\n32434488   3421083        5020                 10          1\n\n[32434489 rows x 4 columns]",
      "text/html": "<div>\n<style scoped>\n    .dataframe tbody tr th:only-of-type {\n        vertical-align: middle;\n    }\n\n    .dataframe tbody tr th {\n        vertical-align: top;\n    }\n\n    .dataframe thead th {\n        text-align: right;\n    }\n</style>\n<table border=\"1\" class=\"dataframe\">\n  <thead>\n    <tr style=\"text-align: right;\">\n      <th></th>\n      <th>order_id</th>\n      <th>product_id</th>\n      <th>add_to_cart_order</th>\n      <th>reordered</th>\n    </tr>\n  </thead>\n  <tbody>\n    <tr>\n      <th>0</th>\n      <td>2</td>\n      <td>33120</td>\n      <td>1</td>\n      <td>1</td>\n    </tr>\n    <tr>\n      <th>1</th>\n      <td>2</td>\n      <td>28985</td>\n      <td>2</td>\n      <td>1</td>\n    </tr>\n    <tr>\n      <th>2</th>\n      <td>2</td>\n      <td>9327</td>\n      <td>3</td>\n      <td>0</td>\n    </tr>\n    <tr>\n      <th>3</th>\n      <td>2</td>\n      <td>45918</td>\n      <td>4</td>\n      <td>1</td>\n    </tr>\n    <tr>\n      <th>4</th>\n      <td>2</td>\n      <td>30035</td>\n      <td>5</td>\n      <td>0</td>\n    </tr>\n    <tr>\n      <th>...</th>\n      <td>...</td>\n      <td>...</td>\n      <td>...</td>\n      <td>...</td>\n    </tr>\n    <tr>\n      <th>32434484</th>\n      <td>3421083</td>\n      <td>39678</td>\n      <td>6</td>\n      <td>1</td>\n    </tr>\n    <tr>\n      <th>32434485</th>\n      <td>3421083</td>\n      <td>11352</td>\n      <td>7</td>\n      <td>0</td>\n    </tr>\n    <tr>\n      <th>32434486</th>\n      <td>3421083</td>\n      <td>4600</td>\n      <td>8</td>\n      <td>0</td>\n    </tr>\n    <tr>\n      <th>32434487</th>\n      <td>3421083</td>\n      <td>24852</td>\n      <td>9</td>\n      <td>1</td>\n    </tr>\n    <tr>\n      <th>32434488</th>\n      <td>3421083</td>\n      <td>5020</td>\n      <td>10</td>\n      <td>1</td>\n    </tr>\n  </tbody>\n</table>\n<p>32434489 rows × 4 columns</p>\n</div>"
     },
     "execution_count": 31,
     "metadata": {},
     "output_type": "execute_result"
    }
   ],
   "source": [
    "order_product"
   ],
   "metadata": {
    "collapsed": false,
    "pycharm": {
     "name": "#%%\n"
    }
   }
  },
  {
   "cell_type": "code",
   "execution_count": 32,
   "outputs": [
    {
     "data": {
      "text/plain": "       department_id department  aisle_id              aisle_x  \\\n0                  1     frozen        34  frozen meat seafood   \n1                  1     frozen        34  frozen meat seafood   \n2                  1     frozen        34  frozen meat seafood   \n3                  1     frozen        34  frozen meat seafood   \n4                  1     frozen        34  frozen meat seafood   \n...              ...        ...       ...                  ...   \n49683             21    missing       100              missing   \n49684             21    missing       100              missing   \n49685             21    missing       100              missing   \n49686             21    missing       100              missing   \n49687             21    missing       100              missing   \n\n                   aisle_y  product_id  \\\n0      frozen meat seafood         118   \n1      frozen meat seafood         383   \n2      frozen meat seafood         402   \n3      frozen meat seafood         625   \n4      frozen meat seafood         831   \n...                    ...         ...   \n49683              missing       49553   \n49684              missing       49575   \n49685              missing       49641   \n49686              missing       49664   \n49687              missing       49669   \n\n                                  product_name  \n0                           Ground Turkey Chub  \n1               Breaded Chicken Breast Tenders  \n2             100% Pure Beef Homestyle Patties  \n3      Chicken Breast Nuggets, Dinosaur Shaped  \n4              All Natural Premium Cornish Hen  \n...                                        ...  \n49683                       Organic Plain Skyr  \n49684           Chocolate Vanilla Malt Custard  \n49685                            8\\\" Pecan Pie  \n49686           Lemon Cayenne Drinking Vinegar  \n49687                         K Cup Dark Blend  \n\n[49688 rows x 7 columns]",
      "text/html": "<div>\n<style scoped>\n    .dataframe tbody tr th:only-of-type {\n        vertical-align: middle;\n    }\n\n    .dataframe tbody tr th {\n        vertical-align: top;\n    }\n\n    .dataframe thead th {\n        text-align: right;\n    }\n</style>\n<table border=\"1\" class=\"dataframe\">\n  <thead>\n    <tr style=\"text-align: right;\">\n      <th></th>\n      <th>department_id</th>\n      <th>department</th>\n      <th>aisle_id</th>\n      <th>aisle_x</th>\n      <th>aisle_y</th>\n      <th>product_id</th>\n      <th>product_name</th>\n    </tr>\n  </thead>\n  <tbody>\n    <tr>\n      <th>0</th>\n      <td>1</td>\n      <td>frozen</td>\n      <td>34</td>\n      <td>frozen meat seafood</td>\n      <td>frozen meat seafood</td>\n      <td>118</td>\n      <td>Ground Turkey Chub</td>\n    </tr>\n    <tr>\n      <th>1</th>\n      <td>1</td>\n      <td>frozen</td>\n      <td>34</td>\n      <td>frozen meat seafood</td>\n      <td>frozen meat seafood</td>\n      <td>383</td>\n      <td>Breaded Chicken Breast Tenders</td>\n    </tr>\n    <tr>\n      <th>2</th>\n      <td>1</td>\n      <td>frozen</td>\n      <td>34</td>\n      <td>frozen meat seafood</td>\n      <td>frozen meat seafood</td>\n      <td>402</td>\n      <td>100% Pure Beef Homestyle Patties</td>\n    </tr>\n    <tr>\n      <th>3</th>\n      <td>1</td>\n      <td>frozen</td>\n      <td>34</td>\n      <td>frozen meat seafood</td>\n      <td>frozen meat seafood</td>\n      <td>625</td>\n      <td>Chicken Breast Nuggets, Dinosaur Shaped</td>\n    </tr>\n    <tr>\n      <th>4</th>\n      <td>1</td>\n      <td>frozen</td>\n      <td>34</td>\n      <td>frozen meat seafood</td>\n      <td>frozen meat seafood</td>\n      <td>831</td>\n      <td>All Natural Premium Cornish Hen</td>\n    </tr>\n    <tr>\n      <th>...</th>\n      <td>...</td>\n      <td>...</td>\n      <td>...</td>\n      <td>...</td>\n      <td>...</td>\n      <td>...</td>\n      <td>...</td>\n    </tr>\n    <tr>\n      <th>49683</th>\n      <td>21</td>\n      <td>missing</td>\n      <td>100</td>\n      <td>missing</td>\n      <td>missing</td>\n      <td>49553</td>\n      <td>Organic Plain Skyr</td>\n    </tr>\n    <tr>\n      <th>49684</th>\n      <td>21</td>\n      <td>missing</td>\n      <td>100</td>\n      <td>missing</td>\n      <td>missing</td>\n      <td>49575</td>\n      <td>Chocolate Vanilla Malt Custard</td>\n    </tr>\n    <tr>\n      <th>49685</th>\n      <td>21</td>\n      <td>missing</td>\n      <td>100</td>\n      <td>missing</td>\n      <td>missing</td>\n      <td>49641</td>\n      <td>8\\\" Pecan Pie</td>\n    </tr>\n    <tr>\n      <th>49686</th>\n      <td>21</td>\n      <td>missing</td>\n      <td>100</td>\n      <td>missing</td>\n      <td>missing</td>\n      <td>49664</td>\n      <td>Lemon Cayenne Drinking Vinegar</td>\n    </tr>\n    <tr>\n      <th>49687</th>\n      <td>21</td>\n      <td>missing</td>\n      <td>100</td>\n      <td>missing</td>\n      <td>missing</td>\n      <td>49669</td>\n      <td>K Cup Dark Blend</td>\n    </tr>\n  </tbody>\n</table>\n<p>49688 rows × 7 columns</p>\n</div>"
     },
     "execution_count": 32,
     "metadata": {},
     "output_type": "execute_result"
    }
   ],
   "source": [
    "products_merge"
   ],
   "metadata": {
    "collapsed": false,
    "pycharm": {
     "name": "#%%\n"
    }
   }
  },
  {
   "cell_type": "code",
   "execution_count": 33,
   "outputs": [],
   "source": [
    "#MERGE PRODUCT ID\n",
    "products_merge = pd.merge(order_product, products, on='product_id')"
   ],
   "metadata": {
    "collapsed": false,
    "pycharm": {
     "name": "#%%\n"
    }
   }
  },
  {
   "cell_type": "code",
   "execution_count": 34,
   "outputs": [
    {
     "data": {
      "text/plain": "   order_id  product_id  add_to_cart_order  reordered  aisle_id aisle_x  \\\n0         2       33120                  1          1        86    eggs   \n1        26       33120                  5          0        86    eggs   \n2       120       33120                 13          0        86    eggs   \n3       327       33120                  5          1        86    eggs   \n4       390       33120                 28          1        86    eggs   \n\n  aisle_y        product_name  department_id  \n0    eggs  Organic Egg Whites             16  \n1    eggs  Organic Egg Whites             16  \n2    eggs  Organic Egg Whites             16  \n3    eggs  Organic Egg Whites             16  \n4    eggs  Organic Egg Whites             16  ",
      "text/html": "<div>\n<style scoped>\n    .dataframe tbody tr th:only-of-type {\n        vertical-align: middle;\n    }\n\n    .dataframe tbody tr th {\n        vertical-align: top;\n    }\n\n    .dataframe thead th {\n        text-align: right;\n    }\n</style>\n<table border=\"1\" class=\"dataframe\">\n  <thead>\n    <tr style=\"text-align: right;\">\n      <th></th>\n      <th>order_id</th>\n      <th>product_id</th>\n      <th>add_to_cart_order</th>\n      <th>reordered</th>\n      <th>aisle_id</th>\n      <th>aisle_x</th>\n      <th>aisle_y</th>\n      <th>product_name</th>\n      <th>department_id</th>\n    </tr>\n  </thead>\n  <tbody>\n    <tr>\n      <th>0</th>\n      <td>2</td>\n      <td>33120</td>\n      <td>1</td>\n      <td>1</td>\n      <td>86</td>\n      <td>eggs</td>\n      <td>eggs</td>\n      <td>Organic Egg Whites</td>\n      <td>16</td>\n    </tr>\n    <tr>\n      <th>1</th>\n      <td>26</td>\n      <td>33120</td>\n      <td>5</td>\n      <td>0</td>\n      <td>86</td>\n      <td>eggs</td>\n      <td>eggs</td>\n      <td>Organic Egg Whites</td>\n      <td>16</td>\n    </tr>\n    <tr>\n      <th>2</th>\n      <td>120</td>\n      <td>33120</td>\n      <td>13</td>\n      <td>0</td>\n      <td>86</td>\n      <td>eggs</td>\n      <td>eggs</td>\n      <td>Organic Egg Whites</td>\n      <td>16</td>\n    </tr>\n    <tr>\n      <th>3</th>\n      <td>327</td>\n      <td>33120</td>\n      <td>5</td>\n      <td>1</td>\n      <td>86</td>\n      <td>eggs</td>\n      <td>eggs</td>\n      <td>Organic Egg Whites</td>\n      <td>16</td>\n    </tr>\n    <tr>\n      <th>4</th>\n      <td>390</td>\n      <td>33120</td>\n      <td>28</td>\n      <td>1</td>\n      <td>86</td>\n      <td>eggs</td>\n      <td>eggs</td>\n      <td>Organic Egg Whites</td>\n      <td>16</td>\n    </tr>\n  </tbody>\n</table>\n</div>"
     },
     "execution_count": 34,
     "metadata": {},
     "output_type": "execute_result"
    }
   ],
   "source": [
    "products_merge.head()"
   ],
   "metadata": {
    "collapsed": false,
    "pycharm": {
     "name": "#%%\n"
    }
   }
  },
  {
   "cell_type": "code",
   "execution_count": 35,
   "outputs": [
    {
     "data": {
      "text/plain": "         order_id  user_id eval_set  order_number  order_dow  \\\n0         2539329        1    prior             1          2   \n1         2398795        1    prior             2          3   \n2          473747        1    prior             3          3   \n3         2254736        1    prior             4          4   \n4          431534        1    prior             5          4   \n...           ...      ...      ...           ...        ...   \n3421078   2266710   206209    prior            10          5   \n3421079   1854736   206209    prior            11          4   \n3421080    626363   206209    prior            12          1   \n3421081   2977660   206209    prior            13          1   \n3421082    272231   206209    train            14          6   \n\n         order_hour_of_day  days_since_prior_order  \n0                        8                     NaN  \n1                        7                    15.0  \n2                       12                    21.0  \n3                        7                    29.0  \n4                       15                    28.0  \n...                    ...                     ...  \n3421078                 18                    29.0  \n3421079                 10                    30.0  \n3421080                 12                    18.0  \n3421081                 12                     7.0  \n3421082                 14                    30.0  \n\n[3421083 rows x 7 columns]",
      "text/html": "<div>\n<style scoped>\n    .dataframe tbody tr th:only-of-type {\n        vertical-align: middle;\n    }\n\n    .dataframe tbody tr th {\n        vertical-align: top;\n    }\n\n    .dataframe thead th {\n        text-align: right;\n    }\n</style>\n<table border=\"1\" class=\"dataframe\">\n  <thead>\n    <tr style=\"text-align: right;\">\n      <th></th>\n      <th>order_id</th>\n      <th>user_id</th>\n      <th>eval_set</th>\n      <th>order_number</th>\n      <th>order_dow</th>\n      <th>order_hour_of_day</th>\n      <th>days_since_prior_order</th>\n    </tr>\n  </thead>\n  <tbody>\n    <tr>\n      <th>0</th>\n      <td>2539329</td>\n      <td>1</td>\n      <td>prior</td>\n      <td>1</td>\n      <td>2</td>\n      <td>8</td>\n      <td>NaN</td>\n    </tr>\n    <tr>\n      <th>1</th>\n      <td>2398795</td>\n      <td>1</td>\n      <td>prior</td>\n      <td>2</td>\n      <td>3</td>\n      <td>7</td>\n      <td>15.0</td>\n    </tr>\n    <tr>\n      <th>2</th>\n      <td>473747</td>\n      <td>1</td>\n      <td>prior</td>\n      <td>3</td>\n      <td>3</td>\n      <td>12</td>\n      <td>21.0</td>\n    </tr>\n    <tr>\n      <th>3</th>\n      <td>2254736</td>\n      <td>1</td>\n      <td>prior</td>\n      <td>4</td>\n      <td>4</td>\n      <td>7</td>\n      <td>29.0</td>\n    </tr>\n    <tr>\n      <th>4</th>\n      <td>431534</td>\n      <td>1</td>\n      <td>prior</td>\n      <td>5</td>\n      <td>4</td>\n      <td>15</td>\n      <td>28.0</td>\n    </tr>\n    <tr>\n      <th>...</th>\n      <td>...</td>\n      <td>...</td>\n      <td>...</td>\n      <td>...</td>\n      <td>...</td>\n      <td>...</td>\n      <td>...</td>\n    </tr>\n    <tr>\n      <th>3421078</th>\n      <td>2266710</td>\n      <td>206209</td>\n      <td>prior</td>\n      <td>10</td>\n      <td>5</td>\n      <td>18</td>\n      <td>29.0</td>\n    </tr>\n    <tr>\n      <th>3421079</th>\n      <td>1854736</td>\n      <td>206209</td>\n      <td>prior</td>\n      <td>11</td>\n      <td>4</td>\n      <td>10</td>\n      <td>30.0</td>\n    </tr>\n    <tr>\n      <th>3421080</th>\n      <td>626363</td>\n      <td>206209</td>\n      <td>prior</td>\n      <td>12</td>\n      <td>1</td>\n      <td>12</td>\n      <td>18.0</td>\n    </tr>\n    <tr>\n      <th>3421081</th>\n      <td>2977660</td>\n      <td>206209</td>\n      <td>prior</td>\n      <td>13</td>\n      <td>1</td>\n      <td>12</td>\n      <td>7.0</td>\n    </tr>\n    <tr>\n      <th>3421082</th>\n      <td>272231</td>\n      <td>206209</td>\n      <td>train</td>\n      <td>14</td>\n      <td>6</td>\n      <td>14</td>\n      <td>30.0</td>\n    </tr>\n  </tbody>\n</table>\n<p>3421083 rows × 7 columns</p>\n</div>"
     },
     "execution_count": 35,
     "metadata": {},
     "output_type": "execute_result"
    }
   ],
   "source": [
    "orders"
   ],
   "metadata": {
    "collapsed": false,
    "pycharm": {
     "name": "#%%\n"
    }
   }
  },
  {
   "cell_type": "code",
   "execution_count": 41,
   "outputs": [],
   "source": [
    "#merge order id\n",
    "products_merge_orders = pd.merge(products_merge, orders, on=\"order_id\")"
   ],
   "metadata": {
    "collapsed": false,
    "pycharm": {
     "name": "#%%\n"
    }
   }
  },
  {
   "cell_type": "code",
   "execution_count": 42,
   "outputs": [
    {
     "data": {
      "text/plain": "   order_id  product_id  add_to_cart_order  reordered  aisle_id  \\\n0         2       33120                  1          1        86   \n1         2       28985                  2          1        83   \n2         2        9327                  3          0       104   \n3         2       45918                  4          1        19   \n4         2       30035                  5          0        17   \n\n              aisle_x             aisle_y           product_name  \\\n0                eggs                eggs     Organic Egg Whites   \n1    fresh vegetables    fresh vegetables  Michigan Organic Kale   \n2   spices seasonings   spices seasonings          Garlic Powder   \n3       oils vinegars       oils vinegars         Coconut Butter   \n4  baking ingredients  baking ingredients      Natural Sweetener   \n\n   department_id  user_id eval_set  order_number  order_dow  \\\n0             16   202279    prior             3          5   \n1              4   202279    prior             3          5   \n2             13   202279    prior             3          5   \n3             13   202279    prior             3          5   \n4             13   202279    prior             3          5   \n\n   order_hour_of_day  days_since_prior_order  \n0                  9                     8.0  \n1                  9                     8.0  \n2                  9                     8.0  \n3                  9                     8.0  \n4                  9                     8.0  ",
      "text/html": "<div>\n<style scoped>\n    .dataframe tbody tr th:only-of-type {\n        vertical-align: middle;\n    }\n\n    .dataframe tbody tr th {\n        vertical-align: top;\n    }\n\n    .dataframe thead th {\n        text-align: right;\n    }\n</style>\n<table border=\"1\" class=\"dataframe\">\n  <thead>\n    <tr style=\"text-align: right;\">\n      <th></th>\n      <th>order_id</th>\n      <th>product_id</th>\n      <th>add_to_cart_order</th>\n      <th>reordered</th>\n      <th>aisle_id</th>\n      <th>aisle_x</th>\n      <th>aisle_y</th>\n      <th>product_name</th>\n      <th>department_id</th>\n      <th>user_id</th>\n      <th>eval_set</th>\n      <th>order_number</th>\n      <th>order_dow</th>\n      <th>order_hour_of_day</th>\n      <th>days_since_prior_order</th>\n    </tr>\n  </thead>\n  <tbody>\n    <tr>\n      <th>0</th>\n      <td>2</td>\n      <td>33120</td>\n      <td>1</td>\n      <td>1</td>\n      <td>86</td>\n      <td>eggs</td>\n      <td>eggs</td>\n      <td>Organic Egg Whites</td>\n      <td>16</td>\n      <td>202279</td>\n      <td>prior</td>\n      <td>3</td>\n      <td>5</td>\n      <td>9</td>\n      <td>8.0</td>\n    </tr>\n    <tr>\n      <th>1</th>\n      <td>2</td>\n      <td>28985</td>\n      <td>2</td>\n      <td>1</td>\n      <td>83</td>\n      <td>fresh vegetables</td>\n      <td>fresh vegetables</td>\n      <td>Michigan Organic Kale</td>\n      <td>4</td>\n      <td>202279</td>\n      <td>prior</td>\n      <td>3</td>\n      <td>5</td>\n      <td>9</td>\n      <td>8.0</td>\n    </tr>\n    <tr>\n      <th>2</th>\n      <td>2</td>\n      <td>9327</td>\n      <td>3</td>\n      <td>0</td>\n      <td>104</td>\n      <td>spices seasonings</td>\n      <td>spices seasonings</td>\n      <td>Garlic Powder</td>\n      <td>13</td>\n      <td>202279</td>\n      <td>prior</td>\n      <td>3</td>\n      <td>5</td>\n      <td>9</td>\n      <td>8.0</td>\n    </tr>\n    <tr>\n      <th>3</th>\n      <td>2</td>\n      <td>45918</td>\n      <td>4</td>\n      <td>1</td>\n      <td>19</td>\n      <td>oils vinegars</td>\n      <td>oils vinegars</td>\n      <td>Coconut Butter</td>\n      <td>13</td>\n      <td>202279</td>\n      <td>prior</td>\n      <td>3</td>\n      <td>5</td>\n      <td>9</td>\n      <td>8.0</td>\n    </tr>\n    <tr>\n      <th>4</th>\n      <td>2</td>\n      <td>30035</td>\n      <td>5</td>\n      <td>0</td>\n      <td>17</td>\n      <td>baking ingredients</td>\n      <td>baking ingredients</td>\n      <td>Natural Sweetener</td>\n      <td>13</td>\n      <td>202279</td>\n      <td>prior</td>\n      <td>3</td>\n      <td>5</td>\n      <td>9</td>\n      <td>8.0</td>\n    </tr>\n  </tbody>\n</table>\n</div>"
     },
     "execution_count": 42,
     "metadata": {},
     "output_type": "execute_result"
    }
   ],
   "source": [
    "products_merge_orders.head()"
   ],
   "metadata": {
    "collapsed": false,
    "pycharm": {
     "name": "#%%\n"
    }
   }
  },
  {
   "cell_type": "markdown",
   "source": [
    "\n"
   ],
   "metadata": {
    "collapsed": false,
    "pycharm": {
     "name": "#%% md\n"
    }
   }
  },
  {
   "cell_type": "code",
   "execution_count": 44,
   "outputs": [],
   "source": [],
   "metadata": {
    "collapsed": false,
    "pycharm": {
     "name": "#%%\n"
    }
   }
  },
  {
   "cell_type": "code",
   "execution_count": null,
   "outputs": [],
   "source": [],
   "metadata": {
    "collapsed": false,
    "pycharm": {
     "name": "#%%\n"
    }
   }
  }
 ],
 "metadata": {
  "kernelspec": {
   "display_name": "Python 3",
   "language": "python",
   "name": "python3"
  },
  "language_info": {
   "codemirror_mode": {
    "name": "ipython",
    "version": 2
   },
   "file_extension": ".py",
   "mimetype": "text/x-python",
   "name": "python",
   "nbconvert_exporter": "python",
   "pygments_lexer": "ipython2",
   "version": "2.7.6"
  }
 },
 "nbformat": 4,
 "nbformat_minor": 0
}